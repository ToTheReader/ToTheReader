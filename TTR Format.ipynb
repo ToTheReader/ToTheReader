{
 "cells": [
  {
   "cell_type": "code",
   "execution_count": null,
   "id": "searching-effect",
   "metadata": {},
   "outputs": [],
   "source": [
    "# Reads the ESTC's 'physical description' field and converts book format into a standard form in TTR\n",
    "\n",
    "import os\n",
    "import openpyxl\n",
    "import pprint"
   ]
  },
  {
   "cell_type": "code",
   "execution_count": null,
   "id": "monetary-biology",
   "metadata": {},
   "outputs": [],
   "source": [
    "os.getcwd()"
   ]
  },
  {
   "cell_type": "code",
   "execution_count": null,
   "id": "neutral-treasurer",
   "metadata": {},
   "outputs": [],
   "source": [
    "os.chdir('C:\\\\Users\\\\misson\\\\Desktop\\\\1 March')"
   ]
  },
  {
   "cell_type": "code",
   "execution_count": null,
   "id": "honest-coaching",
   "metadata": {},
   "outputs": [],
   "source": [
    "TTR = openpyxl.load_workbook('TTR_23022021.xlsx', data_only = True)\n",
    "edition_table = TTR['Edition'] #max + 1 = 13358\n",
    "preface_table = TTR['Preface']"
   ]
  },
  {
   "cell_type": "code",
   "execution_count": null,
   "id": "usual-directory",
   "metadata": {
    "scrolled": false
   },
   "outputs": [],
   "source": [
    "for row in range(3, 13358):\n",
    "    print(row)\n",
    "    \n",
    "    physdesc = str(edition_table['F' + str(row)].value)\n",
    "\n",
    "\n",
    "    if '1°' in physdesc or '1 sheet' in physdesc or '1 broadside' in physdesc or '1/2°' in physdesc or '1/4°' in physdesc:\n",
    "        format = 'Sheet'\n",
    "\n",
    "    elif ' 2°' in physdesc or '(2°' in physdesc or physdesc.startswith('2°'):\n",
    "        format = 'Folio'\n",
    "\n",
    "    elif ' 4°' in physdesc or '(4°' in physdesc or physdesc.startswith('4°'):\n",
    "        format = 'Quarto'\n",
    "\n",
    "    elif ' 8°' in physdesc or '(8°' in physdesc or physdesc.startswith('8°'):\n",
    "        format = 'Octavo'\n",
    "\n",
    "    elif '12°' in physdesc:\n",
    "        format = 'Duodecimo'\n",
    "\n",
    "    elif '16°' in physdesc:\n",
    "        format = 'Sixteenmo'\n",
    "    \n",
    "    elif '32°' in physdesc:\n",
    "        format = '32'\n",
    "        \n",
    "    elif '64' in physdesc:\n",
    "        format = '64'\n",
    "        \n",
    "    elif '24°' in physdesc:\n",
    "        format = '24'\n",
    "\n",
    "    else:\n",
    "        format = 'Unknown'\n",
    "        \n",
    "    \n",
    "    edition_table['G' + str(row)] = format\n",
    "\n",
    "        \n",
    "TTR.save('TTR_01032021.xlsx')\n",
    "\n",
    "            \n",
    "    "
   ]
  },
  {
   "cell_type": "code",
   "execution_count": null,
   "id": "unable-congress",
   "metadata": {},
   "outputs": [],
   "source": []
  }
 ],
 "metadata": {
  "kernelspec": {
   "display_name": "Python 3",
   "language": "python",
   "name": "python3"
  },
  "language_info": {
   "codemirror_mode": {
    "name": "ipython",
    "version": 3
   },
   "file_extension": ".py",
   "mimetype": "text/x-python",
   "name": "python",
   "nbconvert_exporter": "python",
   "pygments_lexer": "ipython3",
   "version": "3.8.10"
  }
 },
 "nbformat": 4,
 "nbformat_minor": 5
}
