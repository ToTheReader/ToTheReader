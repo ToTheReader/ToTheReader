{
 "cells": [
  {
   "cell_type": "code",
   "execution_count": null,
   "id": "searching-effect",
   "metadata": {},
   "outputs": [],
   "source": [
    "# sorts div types into their category and adds to 'Category' column of TTR Preface table\n",
    "\n",
    "import os\n",
    "import openpyxl\n",
    "import pprint"
   ]
  },
  {
   "cell_type": "code",
   "execution_count": null,
   "id": "neutral-treasurer",
   "metadata": {},
   "outputs": [],
   "source": [
    "os.chdir('C:\\\\Users\\\\misson\\\\Desktop\\\\1 March')"
   ]
  },
  {
   "cell_type": "code",
   "execution_count": null,
   "id": "honest-coaching",
   "metadata": {},
   "outputs": [],
   "source": [
    "TTR = openpyxl.load_workbook('TTR_01032021c.xlsx', data_only = True)\n",
    "edition_table = TTR['Edition'] #max row= 13357\n",
    "preface_table = TTR['Preface'] #max row= 21484"
   ]
  },
  {
   "cell_type": "code",
   "execution_count": null,
   "id": "surprising-latitude",
   "metadata": {},
   "outputs": [],
   "source": [
    "cats = openpyxl.load_workbook('TTR Categories.xlsx', data_only = True)\n",
    "ws = cats['Categories']"
   ]
  },
  {
   "cell_type": "code",
   "execution_count": null,
   "id": "floral-threshold",
   "metadata": {},
   "outputs": [],
   "source": [
    "Dedications = []\n",
    "To_the_reader = []\n",
    "Errata = []\n",
    "Poems = []\n",
    "Encomia = []\n",
    "Prefaces_and_Introductions = []\n",
    "Letters = []\n",
    "Arguments_and_Summaries = []\n",
    "Prayers = []\n",
    "Afterwords = []\n",
    "Other = []\n",
    "X_to_the_Y = []"
   ]
  },
  {
   "cell_type": "code",
   "execution_count": null,
   "id": "lesbian-tracy",
   "metadata": {},
   "outputs": [],
   "source": [
    "for row in range(2, 233):\n",
    "    Dedications.append(str(ws['A' + str(row)].value))\n",
    "    To_the_reader.append(str(ws['C' + str(row)].value))\n",
    "    Errata.append(str(ws['E' + str(row)].value))\n",
    "    Poems.append(str(ws['G' + str(row)].value))\n",
    "    Encomia.append(str(ws['I' + str(row)].value))\n",
    "    Prefaces_and_Introductions.append(str(ws['K' + str(row)].value))\n",
    "    Letters.append(str(ws['M' + str(row)].value))\n",
    "    Arguments_and_Summaries.append(str(ws['O' + str(row)].value))\n",
    "    Prayers.append(str(ws['Q' + str(row)].value))\n",
    "    Afterwords.append(str(ws['S' + str(row)].value))\n",
    "    Other.append(str(ws['U' + str(row)].value))\n",
    "    X_to_the_Y.append(str(ws['W' + str(row)].value))"
   ]
  },
  {
   "cell_type": "code",
   "execution_count": null,
   "id": "visible-large",
   "metadata": {},
   "outputs": [],
   "source": [
    "for row in range(2, 21485):\n",
    "    DIV_type = str(preface_table['E' + str(row)].value)\n",
    "    \n",
    "    if DIV_type in Dedications:\n",
    "        preface_table['F' + str(row)].value = 'Dedications'\n",
    "        \n",
    "    elif DIV_type in To_the_reader:\n",
    "        preface_table['F' + str(row)].value = 'To the reader'\n",
    "        \n",
    "    elif DIV_type in Errata:\n",
    "        preface_table['F' + str(row)].value = 'Errata'       \n",
    "    \n",
    "    elif DIV_type in Poems:\n",
    "        preface_table['F' + str(row)].value = 'Poems'\n",
    "        \n",
    "    elif DIV_type in Encomia:\n",
    "        preface_table['F' + str(row)].value = 'Encomia'\n",
    "\n",
    "    elif DIV_type in Prefaces_and_Introductions:\n",
    "        preface_table['F' + str(row)].value = 'Prefaces & Introductions'\n",
    "        \n",
    "    elif DIV_type in Letters:\n",
    "        preface_table['F' + str(row)].value = 'Letters'\n",
    "        \n",
    "    elif DIV_type in Arguments_and_Summaries:\n",
    "        preface_table['F' + str(row)].value = 'Arguments & Summaries'\n",
    "        \n",
    "    elif DIV_type in Prayers:\n",
    "        preface_table['F' + str(row)].value = 'Prayers'\n",
    "        \n",
    "    elif DIV_type in Afterwords:\n",
    "        preface_table['F' + str(row)].value = 'Afterwords'\n",
    "        \n",
    "    elif DIV_type in Other:\n",
    "        preface_table['F' + str(row)].value = 'Other'\n",
    "\n",
    "    elif DIV_type in X_to_the_Y:\n",
    "        preface_table['F' + str(row)].value = 'X to the Y'\n",
    "\n",
    "TTR.save('TTR_02032021d.xlsx')"
   ]
  },
  {
   "cell_type": "code",
   "execution_count": null,
   "id": "disciplinary-davis",
   "metadata": {},
   "outputs": [],
   "source": []
  }
 ],
 "metadata": {
  "kernelspec": {
   "display_name": "Python 3",
   "language": "python",
   "name": "python3"
  },
  "language_info": {
   "codemirror_mode": {
    "name": "ipython",
    "version": 3
   },
   "file_extension": ".py",
   "mimetype": "text/x-python",
   "name": "python",
   "nbconvert_exporter": "python",
   "pygments_lexer": "ipython3",
   "version": "3.8.10"
  }
 },
 "nbformat": 4,
 "nbformat_minor": 5
}
