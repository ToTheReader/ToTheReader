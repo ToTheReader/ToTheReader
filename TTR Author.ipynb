{
 "cells": [
  {
   "cell_type": "code",
   "execution_count": null,
   "id": "searching-effect",
   "metadata": {},
   "outputs": [],
   "source": [
    "# Takes the <signed> element of the TCP file and cleans up/standardizes an author name\n",
    "\n",
    "import os\n",
    "import openpyxl\n",
    "import pprint"
   ]
  },
  {
   "cell_type": "code",
   "execution_count": null,
   "id": "complicated-steal",
   "metadata": {},
   "outputs": [],
   "source": [
    "os.getcwd()"
   ]
  },
  {
   "cell_type": "code",
   "execution_count": null,
   "id": "neutral-treasurer",
   "metadata": {},
   "outputs": [],
   "source": [
    "os.chdir('C:\\\\Users\\\\misson\\\\Desktop')"
   ]
  },
  {
   "cell_type": "code",
   "execution_count": null,
   "id": "honest-coaching",
   "metadata": {},
   "outputs": [],
   "source": [
    "TTR = openpyxl.load_workbook('TTR_25052021.xlsx', data_only = True)\n",
    "edition_table = TTR['Edition'] #max row= 13357\n",
    "preface_table = TTR['Preface'] #max row= 21484"
   ]
  },
  {
   "cell_type": "code",
   "execution_count": null,
   "id": "usual-directory",
   "metadata": {},
   "outputs": [],
   "source": [
    "signed = {}\n",
    "\n",
    "for row in range(2, 21485):\n",
    "    \n",
    "    if preface_table['J' + str(row)].value:\n",
    "        if not preface_table['M' + str(row)].value:\n",
    "            signed[row] = preface_table['J' + str(row)].value\n",
    "        elif preface_table['M' + str(row)].value == '':\n",
    "            signed[row] = preface_table['J' + str(row)].value\n",
    "\n",
    "            \n",
    "    "
   ]
  },
  {
   "cell_type": "code",
   "execution_count": null,
   "id": "experimental-graph",
   "metadata": {},
   "outputs": [],
   "source": [
    "import re"
   ]
  },
  {
   "cell_type": "code",
   "execution_count": null,
   "id": "useful-arlington",
   "metadata": {},
   "outputs": [],
   "source": [
    "newline_two_words = r'^\\S+\\.? \\S+\\.?$' #two words on a newline in the string\n",
    "\n",
    "hits = {}\n",
    "\n",
    "for k, v in signed.items():\n",
    "    string = v.strip()\n",
    "    string = string.replace(' Gent.', '') #removes a common name suffix that is messing up the last 2 words regex\n",
    "    string = string.replace(' Gen.', '')\n",
    "    m = re.search(newline_two_words, string)\n",
    "    \n",
    "    if m:\n",
    "        hits[k] = m.group().lower()\n",
    "        \n",
    "              \n",
    "initials_adjacent = r'[A-Z]\\.[A-Z]\\.' # initials with no space\n",
    "\n",
    "for k, v in signed.items():\n",
    "    string = v.strip()\n",
    "    string = string.replace(' Gent.', '') #removes a common name suffix that is messing up the last 2 words regex\n",
    "    string = string.replace(' Gen.', '')\n",
    "    m = re.search(initials_adjacent, string)\n",
    "    \n",
    "    if m:\n",
    "        string = m.group().lower()\n",
    "        string = string.replace('.', '. ')\n",
    "        string = string.strip()\n",
    "        hits[k] = string\n",
    "        \n",
    "last_two_words = r'\\S+\\.?\\s+\\S+\\.?$'\n",
    "\n",
    "for k, v in signed.items():\n",
    "    string = v.strip()\n",
    "    string = string.replace('\\n', ' ')\n",
    "    string = string.replace(' Gent.', '') #removes a common name suffix that is messing up the last 2 words regex\n",
    "    string = string.replace(' Gen.', '')\n",
    "    m = re.search(last_two_words, string)\n",
    "    \n",
    "    if m:\n",
    "        string = m.group().lower()\n",
    "        hits[k] = string\n",
    "        \n",
    "\n",
    "\n",
    "no_hits = {}\n",
    "\n",
    "for i, k in signed.items():\n",
    "    if i not in hits:\n",
    "        no_hits[i] = k\n",
    "        \n",
    "        \n",
    "        "
   ]
  },
  {
   "cell_type": "code",
   "execution_count": null,
   "id": "structured-victoria",
   "metadata": {},
   "outputs": [],
   "source": [
    "hits_cleaned = {}\n",
    "\n",
    "for k, v in hits.items():\n",
    "    string = v\n",
    "    string = string.replace(':', '.')\n",
    "    string = string.replace(';', '.')\n",
    "    string = string.replace('vv', 'w')\n",
    "    string = string.replace('io.', 'john')\n",
    "    string = string.replace('ioh.', 'john')\n",
    "    string = string.replace('jo.', 'john')\n",
    "    string = string.replace('jhon', 'john')\n",
    "    string = string.replace('ihon', 'john') \n",
    "    string = string.replace('iames', 'james')\n",
    "    string = string.replace('tho.', 'thomas')\n",
    "    string = string.replace('thom.', 'thomas')\n",
    "    string = string.replace('edw.', 'edward')\n",
    "    string = string.replace('will.', 'william')\n",
    "    string = string.replace('geo.', 'george')\n",
    "    string = string.replace('rob.', 'robert')\n",
    "    string = string.replace('hen.', 'henry')\n",
    "    string = string.replace('mich.', 'michael')\n",
    "    string = string.replace('matth.', 'matthew')\n",
    "    string = string.replace('ri.', 'richard')\n",
    "    string = string.replace('ric.', 'richard')\n",
    "    string = string.replace('rich.', 'richard')\n",
    "    string = string.replace('ro.', 'robert')\n",
    "    string = string.replace('sam.', 'samuel')\n",
    "    string = string.replace('ben.', 'ben')\n",
    "    string = string.replace('th.', 'thomas')\n",
    "    string = string.replace('wil.', 'william')\n",
    "    string = string.replace('io', 'jo')\n",
    "    string = string.replace('jos.', 'joseph')\n",
    "    string = string.replace('fran.', 'francis')\n",
    "    string = string.replace('fra.', 'francis')\n",
    "    string = string.replace('\\n', ' ')\n",
    "    string = string.replace('∣', ' ')\n",
    "    string = string.rstrip('▪')\n",
    "    string = string.rstrip(',')\n",
    "    string = string.title()\n",
    "    \n",
    "    endswithinitial = r'\\s[A-Z]\\.$'\n",
    "    \n",
    "    m = re.search(endswithinitial, string)\n",
    "    if not m:\n",
    "        string = string.strip('.')\n",
    "    \n",
    "    hits_cleaned[k] = string        \n",
    "        \n",
    "        "
   ]
  },
  {
   "cell_type": "code",
   "execution_count": null,
   "id": "dietary-defeat",
   "metadata": {},
   "outputs": [],
   "source": [
    "remove = []\n",
    "\n",
    "for k, v in hits_cleaned.items():\n",
    "    if ',' in v:\n",
    "        remove.append(k)\n",
    "    elif 'Christ' in v:\n",
    "        remove.append(k)\n",
    "    elif 'Of ' in v:\n",
    "        remove.append(k)\n",
    "    elif 'Your' in v:\n",
    "        remove.append(k)\n"
   ]
  },
  {
   "cell_type": "code",
   "execution_count": null,
   "id": "aerial-shape",
   "metadata": {},
   "outputs": [],
   "source": [
    "for i in remove:\n",
    "    del hits_cleaned[i]"
   ]
  },
  {
   "cell_type": "code",
   "execution_count": null,
   "id": "southeast-mounting",
   "metadata": {},
   "outputs": [],
   "source": [
    "import pandas as pd\n",
    "\n",
    "df = pd.DataFrame(data=hits_cleaned, index=[0])\n",
    "\n",
    "df = (df.T)\n",
    "\n",
    "print(df)\n",
    "\n",
    "df.to_excel('names3.xlsx')\n"
   ]
  },
  {
   "cell_type": "code",
   "execution_count": null,
   "id": "empirical-prize",
   "metadata": {
    "scrolled": false
   },
   "outputs": [],
   "source": [
    "import nltk\n",
    "nltk.download('names')\n"
   ]
  },
  {
   "cell_type": "code",
   "execution_count": null,
   "id": "italic-prerequisite",
   "metadata": {},
   "outputs": [],
   "source": [
    "from nltk.corpus import names\n",
    "male_names = names.words('male.txt')\n",
    "female_names = names.words('female.txt')"
   ]
  },
  {
   "cell_type": "code",
   "execution_count": null,
   "id": "normal-compromise",
   "metadata": {},
   "outputs": [],
   "source": [
    "non_names = []\n",
    "\n",
    "for i in list(set(unique_hits_cleaned)):\n",
    "    split = i.split(' ')\n",
    "    part1 = split[0].rstrip('.')\n",
    "    part2 = split[1].rstrip('.')\n",
    "    \n",
    "    if part1 not in male_names:\n",
    "        if not split[0].endswith('.'):\n",
    "            non_names.append(i)\n",
    "\n",
    "non_names"
   ]
  },
  {
   "cell_type": "code",
   "execution_count": null,
   "id": "reflected-gambling",
   "metadata": {},
   "outputs": [],
   "source": [
    "capsnamere = r'[A-Z]+.?\\ [A-Z]+.?'\n",
    "\n",
    "\n",
    "capnames = []\n",
    "unmatched = []\n",
    "\n",
    "for i in signed:\n",
    "    m = re.search(capsnamere, i)\n",
    "    if m:\n",
    "        string = m.group(0)\n",
    "        string = string.title()\n",
    "#         string = string.replace('Io', 'Jo')\n",
    "#         string = string.replace('Ia', 'Ja')\n",
    "#         string = string.replace('Tho.', 'Thomas')\n",
    "#         string = string.replace('Tho:', 'Thomas')\n",
    "#         string = string.replace('vv', 'w')\n",
    "#         string = string.replace('VV', 'W')\n",
    "#         string = string.replace('Vv', 'W')\n",
    "        capnames.append(string)\n",
    "    else:\n",
    "        unmatched.append(i)\n",
    "        \n",
    "    "
   ]
  },
  {
   "cell_type": "code",
   "execution_count": null,
   "id": "mature-blues",
   "metadata": {},
   "outputs": [],
   "source": [
    "len(capnames)"
   ]
  },
  {
   "cell_type": "code",
   "execution_count": null,
   "id": "dependent-matthew",
   "metadata": {},
   "outputs": [],
   "source": [
    "unique_capnames = list(set(capnames))\n",
    "len(unique_capnames)"
   ]
  },
  {
   "cell_type": "code",
   "execution_count": null,
   "id": "actual-accident",
   "metadata": {},
   "outputs": [],
   "source": [
    "for i in unique_capnames:\n",
    "    if len(i) > 5:\n",
    "        print(i)"
   ]
  },
  {
   "cell_type": "code",
   "execution_count": null,
   "id": "permanent-wheat",
   "metadata": {},
   "outputs": [],
   "source": [
    "hits = []\n",
    "\n",
    "for i in unmatched:\n",
    "    for name in unique_capnames:\n",
    "        if len(name) > 5:\n",
    "            if name.lower() in i.lower():\n",
    "                hits.append(i)"
   ]
  },
  {
   "cell_type": "code",
   "execution_count": null,
   "id": "indian-season",
   "metadata": {},
   "outputs": [],
   "source": [
    "for i in hits:\n",
    "    print(i)"
   ]
  }
 ],
 "metadata": {
  "kernelspec": {
   "display_name": "Python 3",
   "language": "python",
   "name": "python3"
  },
  "language_info": {
   "codemirror_mode": {
    "name": "ipython",
    "version": 3
   },
   "file_extension": ".py",
   "mimetype": "text/x-python",
   "name": "python",
   "nbconvert_exporter": "python",
   "pygments_lexer": "ipython3",
   "version": "3.8.10"
  }
 },
 "nbformat": 4,
 "nbformat_minor": 5
}
