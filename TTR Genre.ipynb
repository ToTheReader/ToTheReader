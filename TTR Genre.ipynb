{
 "cells": [
  {
   "cell_type": "code",
   "execution_count": null,
   "id": "separated-roman",
   "metadata": {},
   "outputs": [],
   "source": [
    "#goes through each row of TTR, gets STC number\n",
    "#goes through each row of F&L data, finds STC number\n",
    "#takes F&L Genre, Prmary Category, Secondary Category, Tertiary Catergory\n",
    "#imports into TTR\n",
    "\n",
    "import os\n",
    "import openpyxl\n",
    "import pprint"
   ]
  },
  {
   "cell_type": "code",
   "execution_count": null,
   "id": "canadian-routine",
   "metadata": {},
   "outputs": [],
   "source": [
    "os.chdir('C:\\\\Users\\\\misson\\\\Desktop\\\\1 March')"
   ]
  },
  {
   "cell_type": "code",
   "execution_count": null,
   "id": "spiritual-oracle",
   "metadata": {},
   "outputs": [],
   "source": [
    "TTR = openpyxl.load_workbook('TTR_01032021.xlsx', data_only = True)\n",
    "edition_table = TTR['Edition']\n",
    "preface_table = TTR['Preface']\n",
    "\n",
    "FL = openpyxl.load_workbook('F&L pre58.xlsx', data_only = True)\n",
    "sheets = ['Poetry', 'Prose Fiction&Satire', 'Plays', 'Husbandry', 'Cookbooks', 'Lang Instr']\n"
   ]
  },
  {
   "cell_type": "code",
   "execution_count": null,
   "id": "genetic-hundred",
   "metadata": {},
   "outputs": [],
   "source": [
    "def find_genre_cat(STC):\n",
    "    dict = {}\n",
    "    \n",
    "    for sheet in sheets:\n",
    "        \n",
    "        print(sheet)\n",
    "        \n",
    "        ws = FL[sheet]\n",
    "\n",
    "        for row2 in range(3, ws.max_row + 1):\n",
    " \n",
    "            FL_STC = str(ws['A' + str(row2)].value)\n",
    "            \n",
    "            FL_STC = FL_STC.replace('[i]', '')\n",
    "            FL_STC = FL_STC.replace('[ii]', '')\n",
    "            FL_STC = FL_STC.replace(',', '.')\n",
    "            FL_STC = FL_STC.replace('[+]', '.2')\n",
    "            \n",
    "            \n",
    "\n",
    "            if FL_STC == STC:\n",
    "                dict['genre'] = sheet\n",
    "                dict['primary_cat'] = str(ws['G' + str(row2)].value)\n",
    "                dict['secondary_cat'] = str(ws['H' + str(row2)].value)\n",
    "                dict['tertiary_cat'] = str(ws['I' + str(row2)].value)\n",
    "\n",
    "                return dict\n",
    "\n",
    "\n",
    "        \n",
    "        \n",
    "    "
   ]
  },
  {
   "cell_type": "code",
   "execution_count": null,
   "id": "first-damages",
   "metadata": {},
   "outputs": [],
   "source": [
    "for row in range(3, 13358):\n",
    "    \n",
    "    print(row)\n",
    "    \n",
    "    STC = str(edition_table['I' + str(row)].value)\n",
    "\n",
    "    values = find_genre_cat(STC)\n",
    "\n",
    "    if values != None:\n",
    "        edition_table['O' + str(row)] = values['genre']\n",
    "        edition_table['P' + str(row)] = values['primary_cat']\n",
    "        edition_table['Q' + str(row)] = values['secondary_cat']\n",
    "        edition_table['R' + str(row)] = values['tertiary_cat']\n",
    "\n",
    "TTR.save('TTR_01032021b.xlsx')\n",
    "        "
   ]
  },
  {
   "cell_type": "code",
   "execution_count": null,
   "id": "racial-cement",
   "metadata": {},
   "outputs": [],
   "source": []
  }
 ],
 "metadata": {
  "kernelspec": {
   "display_name": "Python 3",
   "language": "python",
   "name": "python3"
  },
  "language_info": {
   "codemirror_mode": {
    "name": "ipython",
    "version": 3
   },
   "file_extension": ".py",
   "mimetype": "text/x-python",
   "name": "python",
   "nbconvert_exporter": "python",
   "pygments_lexer": "ipython3",
   "version": "3.8.10"
  }
 },
 "nbformat": 4,
 "nbformat_minor": 5
}
