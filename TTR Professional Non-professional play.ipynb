{
 "cells": [
  {
   "cell_type": "code",
   "execution_count": null,
   "id": "searching-effect",
   "metadata": {},
   "outputs": [],
   "source": [
    "#goes through each row of TTR, gets STC number\n",
    "#goes through each row of DEEP data, finds STC number\n",
    "#takes Professional/Non professional play info from DEEP data, adds to TTR\n",
    "\n",
    "import os\n",
    "import openpyxl"
   ]
  },
  {
   "cell_type": "code",
   "execution_count": null,
   "id": "neutral-treasurer",
   "metadata": {},
   "outputs": [],
   "source": [
    "os.chdir('C:\\\\Users\\\\misson\\\\Desktop')"
   ]
  },
  {
   "cell_type": "code",
   "execution_count": null,
   "id": "familiar-bedroom",
   "metadata": {},
   "outputs": [],
   "source": [
    "TTR = openpyxl.load_workbook('TTR_25052021.xlsx', data_only = True)\n",
    "edition_table = TTR['Edition']\n",
    "preface_table = TTR['Preface']\n",
    "\n",
    "NAMES = openpyxl.load_workbook('names3.xlsx', data_only = True)\n",
    "NAMES_table = NAMES['Sheet1']"
   ]
  },
  {
   "cell_type": "code",
   "execution_count": null,
   "id": "usual-directory",
   "metadata": {},
   "outputs": [],
   "source": [
    "for row in range(3, 21485):\n",
    "    \n",
    "    print(row)\n",
    "    \n",
    "    for row2 in range(2, 4904):\n",
    "        target_row = NAMES_table['A' + str(row2)].value\n",
    "        \n",
    "        if int(target_row) == row:\n",
    "            preface_table['M' + str(row)] = NAMES_table['B' + str(row2)].value\n",
    "            break\n",
    "\n",
    "        \n",
    "TTR.save('TTR_25052021.xlsx')\n",
    "\n",
    "            \n",
    "    "
   ]
  }
 ],
 "metadata": {
  "kernelspec": {
   "display_name": "Python 3",
   "language": "python",
   "name": "python3"
  },
  "language_info": {
   "codemirror_mode": {
    "name": "ipython",
    "version": 3
   },
   "file_extension": ".py",
   "mimetype": "text/x-python",
   "name": "python",
   "nbconvert_exporter": "python",
   "pygments_lexer": "ipython3",
   "version": "3.8.10"
  }
 },
 "nbformat": 4,
 "nbformat_minor": 5
}
