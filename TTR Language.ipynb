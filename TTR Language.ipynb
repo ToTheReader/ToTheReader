{
 "cells": [
  {
   "cell_type": "code",
   "execution_count": null,
   "id": "criminal-louisiana",
   "metadata": {},
   "outputs": [],
   "source": [
    "# Identifies the language of each text and adds to 'Language' column of TTR\n",
    "\n",
    "import os\n",
    "import openpyxl\n",
    "import pprint\n",
    "import fasttext"
   ]
  },
  {
   "cell_type": "code",
   "execution_count": null,
   "id": "better-evaluation",
   "metadata": {},
   "outputs": [],
   "source": [
    "os.chdir('C:\\\\Users\\\\misson\\\\Desktop\\\\4 March')"
   ]
  },
  {
   "cell_type": "code",
   "execution_count": null,
   "id": "patient-explanation",
   "metadata": {},
   "outputs": [],
   "source": [
    "TTR = openpyxl.load_workbook('TTR_04032021.xlsx', data_only = True)\n",
    "edition_table = TTR['Edition'] #max row= 13357\n",
    "preface_table = TTR['Preface'] #max row= 21484"
   ]
  },
  {
   "cell_type": "code",
   "execution_count": null,
   "id": "assured-congo",
   "metadata": {},
   "outputs": [],
   "source": [
    "PRETRAINED_MODEL_PATH = 'lid.176.bin'\n",
    "model = fasttext.load_model(PRETRAINED_MODEL_PATH)"
   ]
  },
  {
   "cell_type": "code",
   "execution_count": null,
   "id": "seeing-affair",
   "metadata": {},
   "outputs": [],
   "source": [
    "for row in range(2, 21485):\n",
    "    print(row)\n",
    "    \n",
    "    text = str(preface_table['I' + str(row)].value)\n",
    "    \n",
    "    if len(text) > 3:\n",
    "        text = text.replace('\\n', ' ')\n",
    "        predictions = model.predict(text)\n",
    "        language = predictions[0][0][-2:]\n",
    "        preface_table['T' + str(row)].value = language\n",
    "\n",
    "TTR.save('TTR_04032021b.xlsx')\n",
    "\n",
    "            \n",
    "    "
   ]
  }
 ],
 "metadata": {
  "kernelspec": {
   "display_name": "Python 3",
   "language": "python",
   "name": "python3"
  },
  "language_info": {
   "codemirror_mode": {
    "name": "ipython",
    "version": 3
   },
   "file_extension": ".py",
   "mimetype": "text/x-python",
   "name": "python",
   "nbconvert_exporter": "python",
   "pygments_lexer": "ipython3",
   "version": "3.8.10"
  }
 },
 "nbformat": 4,
 "nbformat_minor": 5
}
